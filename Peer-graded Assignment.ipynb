{
  "metadata": {
    "language_info": {
      "codemirror_mode": {
        "name": "python",
        "version": 3
      },
      "file_extension": ".py",
      "mimetype": "text/x-python",
      "name": "python",
      "nbconvert_exporter": "python",
      "pygments_lexer": "ipython3",
      "version": "3.8"
    },
    "kernelspec": {
      "name": "python",
      "display_name": "Python (Pyodide)",
      "language": "python"
    }
  },
  "nbformat_minor": 4,
  "nbformat": 4,
  "cells": [
    {
      "cell_type": "markdown",
      "source": "# Exercise Notebook Title\n## Data Science Exploration",
      "metadata": {}
    },
    {
      "cell_type": "markdown",
      "source": "## Introduction\nWelcome to this data science exploration notebook. In this notebook, we'll cover various aspects of data science, including languages, libraries, tools, and basic arithmetic operations.\n",
      "metadata": {}
    },
    {
      "cell_type": "markdown",
      "source": "## Data Science Languages\n1. Python\n2. R\n3. Julia",
      "metadata": {}
    },
    {
      "cell_type": "markdown",
      "source": "## Data Science Libraries\n1. NumPy\n2. Pandas\n3. Matplotlib\n4. Seaborn\n5. Scikit-learn\n6. TensorFlow\n7. PyTorch",
      "metadata": {}
    },
    {
      "cell_type": "markdown",
      "source": "## Data Science Tools\n\n| Tool           | Description                              |\n| -------------- | ---------------------------------------- |\n| Jupyter        | Interactive computing and data analysis  |\n| VS Code        | Integrated development environment (IDE) |\n| Git            | Version control system                   |\n| Docker         | Containerization platform                |\n| Tableau        | Data visualization tool                  |",
      "metadata": {}
    },
    {
      "cell_type": "markdown",
      "source": "## Introduction to Arithmetic Expressions\nIn the upcoming code cells, we'll explore examples of arithmetic expressions to perform basic mathematical operations.",
      "metadata": {}
    },
    {
      "cell_type": "markdown",
      "source": "## Code Cell: Multiplication and Addition\n```python",
      "metadata": {}
    },
    {
      "cell_type": "code",
      "source": "# Multiply and add numbers\nresult = 5 * 3 + 2\nprint(\"Result:\", result)",
      "metadata": {
        "trusted": true
      },
      "execution_count": 2,
      "outputs": [
        {
          "name": "stdout",
          "text": "Result: 17\n",
          "output_type": "stream"
        }
      ]
    },
    {
      "cell_type": "code",
      "source": "# Convert minutes to hours\nminutes = 120\nhours = minutes / 60\nprint(\"Converted Hours:\", hours)",
      "metadata": {
        "trusted": true
      },
      "execution_count": 3,
      "outputs": [
        {
          "name": "stdout",
          "text": "Converted Hours: 2.0\n",
          "output_type": "stream"
        }
      ]
    },
    {
      "cell_type": "markdown",
      "source": "## Objectives\n1. Understand data science languages and libraries.\n2. Explore common data science tools.\n3. Perform basic arithmetic operations in Python.",
      "metadata": {}
    },
    {
      "cell_type": "markdown",
      "source": "# Author\n## Sarthak khare",
      "metadata": {}
    }
  ]
}